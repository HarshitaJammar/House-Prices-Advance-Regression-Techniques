{
 "cells": [
  {
   "cell_type": "code",
   "execution_count": 154,
   "id": "373ca6ee",
   "metadata": {},
   "outputs": [],
   "source": [
    "import pandas as pd\n",
    "import numpy as np\n",
    "import matplotlib.pyplot as plt\n",
    "%matplotlib inline"
   ]
  },
  {
   "cell_type": "code",
   "execution_count": 155,
   "id": "cdd0ee71",
   "metadata": {},
   "outputs": [],
   "source": [
    "housetrain=pd.read_csv('train.csv')"
   ]
  },
  {
   "cell_type": "code",
   "execution_count": 156,
   "id": "ee3fd620",
   "metadata": {},
   "outputs": [],
   "source": [
    "housetest=pd.read_csv('test.csv')"
   ]
  },
  {
   "cell_type": "code",
   "execution_count": 157,
   "id": "bed782f0",
   "metadata": {},
   "outputs": [
    {
     "data": {
      "text/html": [
       "<div>\n",
       "<style scoped>\n",
       "    .dataframe tbody tr th:only-of-type {\n",
       "        vertical-align: middle;\n",
       "    }\n",
       "\n",
       "    .dataframe tbody tr th {\n",
       "        vertical-align: top;\n",
       "    }\n",
       "\n",
       "    .dataframe thead th {\n",
       "        text-align: right;\n",
       "    }\n",
       "</style>\n",
       "<table border=\"1\" class=\"dataframe\">\n",
       "  <thead>\n",
       "    <tr style=\"text-align: right;\">\n",
       "      <th></th>\n",
       "      <th>Id</th>\n",
       "      <th>MSSubClass</th>\n",
       "      <th>MSZoning</th>\n",
       "      <th>LotFrontage</th>\n",
       "      <th>LotArea</th>\n",
       "      <th>Street</th>\n",
       "      <th>Alley</th>\n",
       "      <th>LotShape</th>\n",
       "      <th>LandContour</th>\n",
       "      <th>Utilities</th>\n",
       "      <th>LotConfig</th>\n",
       "      <th>LandSlope</th>\n",
       "      <th>Neighborhood</th>\n",
       "      <th>Condition1</th>\n",
       "      <th>Condition2</th>\n",
       "      <th>BldgType</th>\n",
       "      <th>HouseStyle</th>\n",
       "      <th>OverallQual</th>\n",
       "      <th>OverallCond</th>\n",
       "      <th>YearBuilt</th>\n",
       "      <th>YearRemodAdd</th>\n",
       "      <th>RoofStyle</th>\n",
       "      <th>RoofMatl</th>\n",
       "      <th>Exterior1st</th>\n",
       "      <th>Exterior2nd</th>\n",
       "      <th>MasVnrType</th>\n",
       "      <th>MasVnrArea</th>\n",
       "      <th>ExterQual</th>\n",
       "      <th>ExterCond</th>\n",
       "      <th>Foundation</th>\n",
       "      <th>BsmtQual</th>\n",
       "      <th>BsmtCond</th>\n",
       "      <th>BsmtExposure</th>\n",
       "      <th>BsmtFinType1</th>\n",
       "      <th>BsmtFinSF1</th>\n",
       "      <th>BsmtFinType2</th>\n",
       "      <th>BsmtFinSF2</th>\n",
       "      <th>BsmtUnfSF</th>\n",
       "      <th>TotalBsmtSF</th>\n",
       "      <th>Heating</th>\n",
       "      <th>HeatingQC</th>\n",
       "      <th>CentralAir</th>\n",
       "      <th>Electrical</th>\n",
       "      <th>1stFlrSF</th>\n",
       "      <th>2ndFlrSF</th>\n",
       "      <th>LowQualFinSF</th>\n",
       "      <th>GrLivArea</th>\n",
       "      <th>BsmtFullBath</th>\n",
       "      <th>BsmtHalfBath</th>\n",
       "      <th>FullBath</th>\n",
       "      <th>HalfBath</th>\n",
       "      <th>BedroomAbvGr</th>\n",
       "      <th>KitchenAbvGr</th>\n",
       "      <th>KitchenQual</th>\n",
       "      <th>TotRmsAbvGrd</th>\n",
       "      <th>Functional</th>\n",
       "      <th>Fireplaces</th>\n",
       "      <th>FireplaceQu</th>\n",
       "      <th>GarageType</th>\n",
       "      <th>GarageYrBlt</th>\n",
       "      <th>GarageFinish</th>\n",
       "      <th>GarageCars</th>\n",
       "      <th>GarageArea</th>\n",
       "      <th>GarageQual</th>\n",
       "      <th>GarageCond</th>\n",
       "      <th>PavedDrive</th>\n",
       "      <th>WoodDeckSF</th>\n",
       "      <th>OpenPorchSF</th>\n",
       "      <th>EnclosedPorch</th>\n",
       "      <th>3SsnPorch</th>\n",
       "      <th>ScreenPorch</th>\n",
       "      <th>PoolArea</th>\n",
       "      <th>PoolQC</th>\n",
       "      <th>Fence</th>\n",
       "      <th>MiscFeature</th>\n",
       "      <th>MiscVal</th>\n",
       "      <th>MoSold</th>\n",
       "      <th>YrSold</th>\n",
       "      <th>SaleType</th>\n",
       "      <th>SaleCondition</th>\n",
       "      <th>SalePrice</th>\n",
       "    </tr>\n",
       "  </thead>\n",
       "  <tbody>\n",
       "    <tr>\n",
       "      <th>0</th>\n",
       "      <td>1</td>\n",
       "      <td>60</td>\n",
       "      <td>RL</td>\n",
       "      <td>65.0</td>\n",
       "      <td>8450</td>\n",
       "      <td>Pave</td>\n",
       "      <td>NaN</td>\n",
       "      <td>Reg</td>\n",
       "      <td>Lvl</td>\n",
       "      <td>AllPub</td>\n",
       "      <td>Inside</td>\n",
       "      <td>Gtl</td>\n",
       "      <td>CollgCr</td>\n",
       "      <td>Norm</td>\n",
       "      <td>Norm</td>\n",
       "      <td>1Fam</td>\n",
       "      <td>2Story</td>\n",
       "      <td>7</td>\n",
       "      <td>5</td>\n",
       "      <td>2003</td>\n",
       "      <td>2003</td>\n",
       "      <td>Gable</td>\n",
       "      <td>CompShg</td>\n",
       "      <td>VinylSd</td>\n",
       "      <td>VinylSd</td>\n",
       "      <td>BrkFace</td>\n",
       "      <td>196.0</td>\n",
       "      <td>Gd</td>\n",
       "      <td>TA</td>\n",
       "      <td>PConc</td>\n",
       "      <td>Gd</td>\n",
       "      <td>TA</td>\n",
       "      <td>No</td>\n",
       "      <td>GLQ</td>\n",
       "      <td>706</td>\n",
       "      <td>Unf</td>\n",
       "      <td>0</td>\n",
       "      <td>150</td>\n",
       "      <td>856</td>\n",
       "      <td>GasA</td>\n",
       "      <td>Ex</td>\n",
       "      <td>Y</td>\n",
       "      <td>SBrkr</td>\n",
       "      <td>856</td>\n",
       "      <td>854</td>\n",
       "      <td>0</td>\n",
       "      <td>1710</td>\n",
       "      <td>1</td>\n",
       "      <td>0</td>\n",
       "      <td>2</td>\n",
       "      <td>1</td>\n",
       "      <td>3</td>\n",
       "      <td>1</td>\n",
       "      <td>Gd</td>\n",
       "      <td>8</td>\n",
       "      <td>Typ</td>\n",
       "      <td>0</td>\n",
       "      <td>NaN</td>\n",
       "      <td>Attchd</td>\n",
       "      <td>2003.0</td>\n",
       "      <td>RFn</td>\n",
       "      <td>2</td>\n",
       "      <td>548</td>\n",
       "      <td>TA</td>\n",
       "      <td>TA</td>\n",
       "      <td>Y</td>\n",
       "      <td>0</td>\n",
       "      <td>61</td>\n",
       "      <td>0</td>\n",
       "      <td>0</td>\n",
       "      <td>0</td>\n",
       "      <td>0</td>\n",
       "      <td>NaN</td>\n",
       "      <td>NaN</td>\n",
       "      <td>NaN</td>\n",
       "      <td>0</td>\n",
       "      <td>2</td>\n",
       "      <td>2008</td>\n",
       "      <td>WD</td>\n",
       "      <td>Normal</td>\n",
       "      <td>208500</td>\n",
       "    </tr>\n",
       "    <tr>\n",
       "      <th>1</th>\n",
       "      <td>2</td>\n",
       "      <td>20</td>\n",
       "      <td>RL</td>\n",
       "      <td>80.0</td>\n",
       "      <td>9600</td>\n",
       "      <td>Pave</td>\n",
       "      <td>NaN</td>\n",
       "      <td>Reg</td>\n",
       "      <td>Lvl</td>\n",
       "      <td>AllPub</td>\n",
       "      <td>FR2</td>\n",
       "      <td>Gtl</td>\n",
       "      <td>Veenker</td>\n",
       "      <td>Feedr</td>\n",
       "      <td>Norm</td>\n",
       "      <td>1Fam</td>\n",
       "      <td>1Story</td>\n",
       "      <td>6</td>\n",
       "      <td>8</td>\n",
       "      <td>1976</td>\n",
       "      <td>1976</td>\n",
       "      <td>Gable</td>\n",
       "      <td>CompShg</td>\n",
       "      <td>MetalSd</td>\n",
       "      <td>MetalSd</td>\n",
       "      <td>None</td>\n",
       "      <td>0.0</td>\n",
       "      <td>TA</td>\n",
       "      <td>TA</td>\n",
       "      <td>CBlock</td>\n",
       "      <td>Gd</td>\n",
       "      <td>TA</td>\n",
       "      <td>Gd</td>\n",
       "      <td>ALQ</td>\n",
       "      <td>978</td>\n",
       "      <td>Unf</td>\n",
       "      <td>0</td>\n",
       "      <td>284</td>\n",
       "      <td>1262</td>\n",
       "      <td>GasA</td>\n",
       "      <td>Ex</td>\n",
       "      <td>Y</td>\n",
       "      <td>SBrkr</td>\n",
       "      <td>1262</td>\n",
       "      <td>0</td>\n",
       "      <td>0</td>\n",
       "      <td>1262</td>\n",
       "      <td>0</td>\n",
       "      <td>1</td>\n",
       "      <td>2</td>\n",
       "      <td>0</td>\n",
       "      <td>3</td>\n",
       "      <td>1</td>\n",
       "      <td>TA</td>\n",
       "      <td>6</td>\n",
       "      <td>Typ</td>\n",
       "      <td>1</td>\n",
       "      <td>TA</td>\n",
       "      <td>Attchd</td>\n",
       "      <td>1976.0</td>\n",
       "      <td>RFn</td>\n",
       "      <td>2</td>\n",
       "      <td>460</td>\n",
       "      <td>TA</td>\n",
       "      <td>TA</td>\n",
       "      <td>Y</td>\n",
       "      <td>298</td>\n",
       "      <td>0</td>\n",
       "      <td>0</td>\n",
       "      <td>0</td>\n",
       "      <td>0</td>\n",
       "      <td>0</td>\n",
       "      <td>NaN</td>\n",
       "      <td>NaN</td>\n",
       "      <td>NaN</td>\n",
       "      <td>0</td>\n",
       "      <td>5</td>\n",
       "      <td>2007</td>\n",
       "      <td>WD</td>\n",
       "      <td>Normal</td>\n",
       "      <td>181500</td>\n",
       "    </tr>\n",
       "    <tr>\n",
       "      <th>2</th>\n",
       "      <td>3</td>\n",
       "      <td>60</td>\n",
       "      <td>RL</td>\n",
       "      <td>68.0</td>\n",
       "      <td>11250</td>\n",
       "      <td>Pave</td>\n",
       "      <td>NaN</td>\n",
       "      <td>IR1</td>\n",
       "      <td>Lvl</td>\n",
       "      <td>AllPub</td>\n",
       "      <td>Inside</td>\n",
       "      <td>Gtl</td>\n",
       "      <td>CollgCr</td>\n",
       "      <td>Norm</td>\n",
       "      <td>Norm</td>\n",
       "      <td>1Fam</td>\n",
       "      <td>2Story</td>\n",
       "      <td>7</td>\n",
       "      <td>5</td>\n",
       "      <td>2001</td>\n",
       "      <td>2002</td>\n",
       "      <td>Gable</td>\n",
       "      <td>CompShg</td>\n",
       "      <td>VinylSd</td>\n",
       "      <td>VinylSd</td>\n",
       "      <td>BrkFace</td>\n",
       "      <td>162.0</td>\n",
       "      <td>Gd</td>\n",
       "      <td>TA</td>\n",
       "      <td>PConc</td>\n",
       "      <td>Gd</td>\n",
       "      <td>TA</td>\n",
       "      <td>Mn</td>\n",
       "      <td>GLQ</td>\n",
       "      <td>486</td>\n",
       "      <td>Unf</td>\n",
       "      <td>0</td>\n",
       "      <td>434</td>\n",
       "      <td>920</td>\n",
       "      <td>GasA</td>\n",
       "      <td>Ex</td>\n",
       "      <td>Y</td>\n",
       "      <td>SBrkr</td>\n",
       "      <td>920</td>\n",
       "      <td>866</td>\n",
       "      <td>0</td>\n",
       "      <td>1786</td>\n",
       "      <td>1</td>\n",
       "      <td>0</td>\n",
       "      <td>2</td>\n",
       "      <td>1</td>\n",
       "      <td>3</td>\n",
       "      <td>1</td>\n",
       "      <td>Gd</td>\n",
       "      <td>6</td>\n",
       "      <td>Typ</td>\n",
       "      <td>1</td>\n",
       "      <td>TA</td>\n",
       "      <td>Attchd</td>\n",
       "      <td>2001.0</td>\n",
       "      <td>RFn</td>\n",
       "      <td>2</td>\n",
       "      <td>608</td>\n",
       "      <td>TA</td>\n",
       "      <td>TA</td>\n",
       "      <td>Y</td>\n",
       "      <td>0</td>\n",
       "      <td>42</td>\n",
       "      <td>0</td>\n",
       "      <td>0</td>\n",
       "      <td>0</td>\n",
       "      <td>0</td>\n",
       "      <td>NaN</td>\n",
       "      <td>NaN</td>\n",
       "      <td>NaN</td>\n",
       "      <td>0</td>\n",
       "      <td>9</td>\n",
       "      <td>2008</td>\n",
       "      <td>WD</td>\n",
       "      <td>Normal</td>\n",
       "      <td>223500</td>\n",
       "    </tr>\n",
       "    <tr>\n",
       "      <th>3</th>\n",
       "      <td>4</td>\n",
       "      <td>70</td>\n",
       "      <td>RL</td>\n",
       "      <td>60.0</td>\n",
       "      <td>9550</td>\n",
       "      <td>Pave</td>\n",
       "      <td>NaN</td>\n",
       "      <td>IR1</td>\n",
       "      <td>Lvl</td>\n",
       "      <td>AllPub</td>\n",
       "      <td>Corner</td>\n",
       "      <td>Gtl</td>\n",
       "      <td>Crawfor</td>\n",
       "      <td>Norm</td>\n",
       "      <td>Norm</td>\n",
       "      <td>1Fam</td>\n",
       "      <td>2Story</td>\n",
       "      <td>7</td>\n",
       "      <td>5</td>\n",
       "      <td>1915</td>\n",
       "      <td>1970</td>\n",
       "      <td>Gable</td>\n",
       "      <td>CompShg</td>\n",
       "      <td>Wd Sdng</td>\n",
       "      <td>Wd Shng</td>\n",
       "      <td>None</td>\n",
       "      <td>0.0</td>\n",
       "      <td>TA</td>\n",
       "      <td>TA</td>\n",
       "      <td>BrkTil</td>\n",
       "      <td>TA</td>\n",
       "      <td>Gd</td>\n",
       "      <td>No</td>\n",
       "      <td>ALQ</td>\n",
       "      <td>216</td>\n",
       "      <td>Unf</td>\n",
       "      <td>0</td>\n",
       "      <td>540</td>\n",
       "      <td>756</td>\n",
       "      <td>GasA</td>\n",
       "      <td>Gd</td>\n",
       "      <td>Y</td>\n",
       "      <td>SBrkr</td>\n",
       "      <td>961</td>\n",
       "      <td>756</td>\n",
       "      <td>0</td>\n",
       "      <td>1717</td>\n",
       "      <td>1</td>\n",
       "      <td>0</td>\n",
       "      <td>1</td>\n",
       "      <td>0</td>\n",
       "      <td>3</td>\n",
       "      <td>1</td>\n",
       "      <td>Gd</td>\n",
       "      <td>7</td>\n",
       "      <td>Typ</td>\n",
       "      <td>1</td>\n",
       "      <td>Gd</td>\n",
       "      <td>Detchd</td>\n",
       "      <td>1998.0</td>\n",
       "      <td>Unf</td>\n",
       "      <td>3</td>\n",
       "      <td>642</td>\n",
       "      <td>TA</td>\n",
       "      <td>TA</td>\n",
       "      <td>Y</td>\n",
       "      <td>0</td>\n",
       "      <td>35</td>\n",
       "      <td>272</td>\n",
       "      <td>0</td>\n",
       "      <td>0</td>\n",
       "      <td>0</td>\n",
       "      <td>NaN</td>\n",
       "      <td>NaN</td>\n",
       "      <td>NaN</td>\n",
       "      <td>0</td>\n",
       "      <td>2</td>\n",
       "      <td>2006</td>\n",
       "      <td>WD</td>\n",
       "      <td>Abnorml</td>\n",
       "      <td>140000</td>\n",
       "    </tr>\n",
       "    <tr>\n",
       "      <th>4</th>\n",
       "      <td>5</td>\n",
       "      <td>60</td>\n",
       "      <td>RL</td>\n",
       "      <td>84.0</td>\n",
       "      <td>14260</td>\n",
       "      <td>Pave</td>\n",
       "      <td>NaN</td>\n",
       "      <td>IR1</td>\n",
       "      <td>Lvl</td>\n",
       "      <td>AllPub</td>\n",
       "      <td>FR2</td>\n",
       "      <td>Gtl</td>\n",
       "      <td>NoRidge</td>\n",
       "      <td>Norm</td>\n",
       "      <td>Norm</td>\n",
       "      <td>1Fam</td>\n",
       "      <td>2Story</td>\n",
       "      <td>8</td>\n",
       "      <td>5</td>\n",
       "      <td>2000</td>\n",
       "      <td>2000</td>\n",
       "      <td>Gable</td>\n",
       "      <td>CompShg</td>\n",
       "      <td>VinylSd</td>\n",
       "      <td>VinylSd</td>\n",
       "      <td>BrkFace</td>\n",
       "      <td>350.0</td>\n",
       "      <td>Gd</td>\n",
       "      <td>TA</td>\n",
       "      <td>PConc</td>\n",
       "      <td>Gd</td>\n",
       "      <td>TA</td>\n",
       "      <td>Av</td>\n",
       "      <td>GLQ</td>\n",
       "      <td>655</td>\n",
       "      <td>Unf</td>\n",
       "      <td>0</td>\n",
       "      <td>490</td>\n",
       "      <td>1145</td>\n",
       "      <td>GasA</td>\n",
       "      <td>Ex</td>\n",
       "      <td>Y</td>\n",
       "      <td>SBrkr</td>\n",
       "      <td>1145</td>\n",
       "      <td>1053</td>\n",
       "      <td>0</td>\n",
       "      <td>2198</td>\n",
       "      <td>1</td>\n",
       "      <td>0</td>\n",
       "      <td>2</td>\n",
       "      <td>1</td>\n",
       "      <td>4</td>\n",
       "      <td>1</td>\n",
       "      <td>Gd</td>\n",
       "      <td>9</td>\n",
       "      <td>Typ</td>\n",
       "      <td>1</td>\n",
       "      <td>TA</td>\n",
       "      <td>Attchd</td>\n",
       "      <td>2000.0</td>\n",
       "      <td>RFn</td>\n",
       "      <td>3</td>\n",
       "      <td>836</td>\n",
       "      <td>TA</td>\n",
       "      <td>TA</td>\n",
       "      <td>Y</td>\n",
       "      <td>192</td>\n",
       "      <td>84</td>\n",
       "      <td>0</td>\n",
       "      <td>0</td>\n",
       "      <td>0</td>\n",
       "      <td>0</td>\n",
       "      <td>NaN</td>\n",
       "      <td>NaN</td>\n",
       "      <td>NaN</td>\n",
       "      <td>0</td>\n",
       "      <td>12</td>\n",
       "      <td>2008</td>\n",
       "      <td>WD</td>\n",
       "      <td>Normal</td>\n",
       "      <td>250000</td>\n",
       "    </tr>\n",
       "  </tbody>\n",
       "</table>\n",
       "</div>"
      ],
      "text/plain": [
       "   Id  MSSubClass MSZoning  LotFrontage  LotArea Street Alley LotShape LandContour Utilities  \\\n",
       "0   1          60       RL         65.0     8450   Pave   NaN      Reg         Lvl    AllPub   \n",
       "1   2          20       RL         80.0     9600   Pave   NaN      Reg         Lvl    AllPub   \n",
       "2   3          60       RL         68.0    11250   Pave   NaN      IR1         Lvl    AllPub   \n",
       "3   4          70       RL         60.0     9550   Pave   NaN      IR1         Lvl    AllPub   \n",
       "4   5          60       RL         84.0    14260   Pave   NaN      IR1         Lvl    AllPub   \n",
       "\n",
       "  LotConfig LandSlope Neighborhood Condition1 Condition2 BldgType HouseStyle  OverallQual  \\\n",
       "0    Inside       Gtl      CollgCr       Norm       Norm     1Fam     2Story            7   \n",
       "1       FR2       Gtl      Veenker      Feedr       Norm     1Fam     1Story            6   \n",
       "2    Inside       Gtl      CollgCr       Norm       Norm     1Fam     2Story            7   \n",
       "3    Corner       Gtl      Crawfor       Norm       Norm     1Fam     2Story            7   \n",
       "4       FR2       Gtl      NoRidge       Norm       Norm     1Fam     2Story            8   \n",
       "\n",
       "   OverallCond  YearBuilt  YearRemodAdd RoofStyle RoofMatl Exterior1st Exterior2nd MasVnrType  \\\n",
       "0            5       2003          2003     Gable  CompShg     VinylSd     VinylSd    BrkFace   \n",
       "1            8       1976          1976     Gable  CompShg     MetalSd     MetalSd       None   \n",
       "2            5       2001          2002     Gable  CompShg     VinylSd     VinylSd    BrkFace   \n",
       "3            5       1915          1970     Gable  CompShg     Wd Sdng     Wd Shng       None   \n",
       "4            5       2000          2000     Gable  CompShg     VinylSd     VinylSd    BrkFace   \n",
       "\n",
       "   MasVnrArea ExterQual ExterCond Foundation BsmtQual BsmtCond BsmtExposure BsmtFinType1  \\\n",
       "0       196.0        Gd        TA      PConc       Gd       TA           No          GLQ   \n",
       "1         0.0        TA        TA     CBlock       Gd       TA           Gd          ALQ   \n",
       "2       162.0        Gd        TA      PConc       Gd       TA           Mn          GLQ   \n",
       "3         0.0        TA        TA     BrkTil       TA       Gd           No          ALQ   \n",
       "4       350.0        Gd        TA      PConc       Gd       TA           Av          GLQ   \n",
       "\n",
       "   BsmtFinSF1 BsmtFinType2  BsmtFinSF2  BsmtUnfSF  TotalBsmtSF Heating HeatingQC CentralAir  \\\n",
       "0         706          Unf           0        150          856    GasA        Ex          Y   \n",
       "1         978          Unf           0        284         1262    GasA        Ex          Y   \n",
       "2         486          Unf           0        434          920    GasA        Ex          Y   \n",
       "3         216          Unf           0        540          756    GasA        Gd          Y   \n",
       "4         655          Unf           0        490         1145    GasA        Ex          Y   \n",
       "\n",
       "  Electrical  1stFlrSF  2ndFlrSF  LowQualFinSF  GrLivArea  BsmtFullBath  BsmtHalfBath  FullBath  \\\n",
       "0      SBrkr       856       854             0       1710             1             0         2   \n",
       "1      SBrkr      1262         0             0       1262             0             1         2   \n",
       "2      SBrkr       920       866             0       1786             1             0         2   \n",
       "3      SBrkr       961       756             0       1717             1             0         1   \n",
       "4      SBrkr      1145      1053             0       2198             1             0         2   \n",
       "\n",
       "   HalfBath  BedroomAbvGr  KitchenAbvGr KitchenQual  TotRmsAbvGrd Functional  Fireplaces  \\\n",
       "0         1             3             1          Gd             8        Typ           0   \n",
       "1         0             3             1          TA             6        Typ           1   \n",
       "2         1             3             1          Gd             6        Typ           1   \n",
       "3         0             3             1          Gd             7        Typ           1   \n",
       "4         1             4             1          Gd             9        Typ           1   \n",
       "\n",
       "  FireplaceQu GarageType  GarageYrBlt GarageFinish  GarageCars  GarageArea GarageQual GarageCond  \\\n",
       "0         NaN     Attchd       2003.0          RFn           2         548         TA         TA   \n",
       "1          TA     Attchd       1976.0          RFn           2         460         TA         TA   \n",
       "2          TA     Attchd       2001.0          RFn           2         608         TA         TA   \n",
       "3          Gd     Detchd       1998.0          Unf           3         642         TA         TA   \n",
       "4          TA     Attchd       2000.0          RFn           3         836         TA         TA   \n",
       "\n",
       "  PavedDrive  WoodDeckSF  OpenPorchSF  EnclosedPorch  3SsnPorch  ScreenPorch  PoolArea PoolQC  \\\n",
       "0          Y           0           61              0          0            0         0    NaN   \n",
       "1          Y         298            0              0          0            0         0    NaN   \n",
       "2          Y           0           42              0          0            0         0    NaN   \n",
       "3          Y           0           35            272          0            0         0    NaN   \n",
       "4          Y         192           84              0          0            0         0    NaN   \n",
       "\n",
       "  Fence MiscFeature  MiscVal  MoSold  YrSold SaleType SaleCondition  SalePrice  \n",
       "0   NaN         NaN        0       2    2008       WD        Normal     208500  \n",
       "1   NaN         NaN        0       5    2007       WD        Normal     181500  \n",
       "2   NaN         NaN        0       9    2008       WD        Normal     223500  \n",
       "3   NaN         NaN        0       2    2006       WD       Abnorml     140000  \n",
       "4   NaN         NaN        0      12    2008       WD        Normal     250000  "
      ]
     },
     "execution_count": 157,
     "metadata": {},
     "output_type": "execute_result"
    }
   ],
   "source": [
    "housetrain.head()"
   ]
  },
  {
   "cell_type": "code",
   "execution_count": 158,
   "id": "9452665c",
   "metadata": {},
   "outputs": [
    {
     "data": {
      "text/plain": [
       "(1460, 81)"
      ]
     },
     "execution_count": 158,
     "metadata": {},
     "output_type": "execute_result"
    }
   ],
   "source": [
    "housetrain.shape"
   ]
  },
  {
   "cell_type": "code",
   "execution_count": 159,
   "id": "510a4ef6",
   "metadata": {},
   "outputs": [
    {
     "data": {
      "text/plain": [
       "(1459, 80)"
      ]
     },
     "execution_count": 159,
     "metadata": {},
     "output_type": "execute_result"
    }
   ],
   "source": [
    "housetest.shape"
   ]
  },
  {
   "cell_type": "code",
   "execution_count": 160,
   "id": "a0e313cc",
   "metadata": {},
   "outputs": [
    {
     "data": {
      "text/plain": [
       "PoolQC           1453\n",
       "MiscFeature      1406\n",
       "Alley            1369\n",
       "Fence            1179\n",
       "FireplaceQu       690\n",
       "LotFrontage       259\n",
       "GarageYrBlt        81\n",
       "GarageCond         81\n",
       "GarageType         81\n",
       "GarageFinish       81\n",
       "GarageQual         81\n",
       "BsmtFinType2       38\n",
       "BsmtExposure       38\n",
       "BsmtQual           37\n",
       "BsmtCond           37\n",
       "BsmtFinType1       37\n",
       "MasVnrArea          8\n",
       "MasVnrType          8\n",
       "Electrical          1\n",
       "Id                  0\n",
       "Functional          0\n",
       "Fireplaces          0\n",
       "KitchenQual         0\n",
       "KitchenAbvGr        0\n",
       "BedroomAbvGr        0\n",
       "HalfBath            0\n",
       "FullBath            0\n",
       "BsmtHalfBath        0\n",
       "TotRmsAbvGrd        0\n",
       "GarageCars          0\n",
       "GrLivArea           0\n",
       "GarageArea          0\n",
       "PavedDrive          0\n",
       "WoodDeckSF          0\n",
       "OpenPorchSF         0\n",
       "EnclosedPorch       0\n",
       "3SsnPorch           0\n",
       "ScreenPorch         0\n",
       "PoolArea            0\n",
       "MiscVal             0\n",
       "MoSold              0\n",
       "YrSold              0\n",
       "SaleType            0\n",
       "SaleCondition       0\n",
       "BsmtFullBath        0\n",
       "HeatingQC           0\n",
       "LowQualFinSF        0\n",
       "LandSlope           0\n",
       "OverallQual         0\n",
       "HouseStyle          0\n",
       "BldgType            0\n",
       "Condition2          0\n",
       "Condition1          0\n",
       "Neighborhood        0\n",
       "LotConfig           0\n",
       "YearBuilt           0\n",
       "Utilities           0\n",
       "LandContour         0\n",
       "LotShape            0\n",
       "Street              0\n",
       "LotArea             0\n",
       "MSZoning            0\n",
       "OverallCond         0\n",
       "YearRemodAdd        0\n",
       "2ndFlrSF            0\n",
       "BsmtFinSF2          0\n",
       "1stFlrSF            0\n",
       "CentralAir          0\n",
       "MSSubClass          0\n",
       "Heating             0\n",
       "TotalBsmtSF         0\n",
       "BsmtUnfSF           0\n",
       "BsmtFinSF1          0\n",
       "RoofStyle           0\n",
       "Foundation          0\n",
       "ExterCond           0\n",
       "ExterQual           0\n",
       "Exterior2nd         0\n",
       "Exterior1st         0\n",
       "RoofMatl            0\n",
       "SalePrice           0\n",
       "dtype: int64"
      ]
     },
     "execution_count": 160,
     "metadata": {},
     "output_type": "execute_result"
    }
   ],
   "source": [
    "pd.set_option('display.max_rows', 90)\n",
    "housetrain.isnull().sum().sort_values(ascending=False)"
   ]
  },
  {
   "cell_type": "code",
   "execution_count": 161,
   "id": "c4068c9d",
   "metadata": {},
   "outputs": [
    {
     "data": {
      "text/plain": [
       "PoolQC           1456\n",
       "MiscFeature      1408\n",
       "Alley            1352\n",
       "Fence            1169\n",
       "FireplaceQu       730\n",
       "LotFrontage       227\n",
       "GarageYrBlt        78\n",
       "GarageQual         78\n",
       "GarageFinish       78\n",
       "GarageCond         78\n",
       "GarageType         76\n",
       "BsmtCond           45\n",
       "BsmtQual           44\n",
       "BsmtExposure       44\n",
       "BsmtFinType1       42\n",
       "BsmtFinType2       42\n",
       "MasVnrType         16\n",
       "MasVnrArea         15\n",
       "MSZoning            4\n",
       "BsmtHalfBath        2\n",
       "Utilities           2\n",
       "Functional          2\n",
       "BsmtFullBath        2\n",
       "BsmtFinSF1          1\n",
       "BsmtFinSF2          1\n",
       "BsmtUnfSF           1\n",
       "KitchenQual         1\n",
       "TotalBsmtSF         1\n",
       "Exterior2nd         1\n",
       "GarageCars          1\n",
       "Exterior1st         1\n",
       "GarageArea          1\n",
       "SaleType            1\n",
       "MiscVal             0\n",
       "BedroomAbvGr        0\n",
       "KitchenAbvGr        0\n",
       "YrSold              0\n",
       "TotRmsAbvGrd        0\n",
       "MoSold              0\n",
       "Fireplaces          0\n",
       "PoolArea            0\n",
       "HalfBath            0\n",
       "ScreenPorch         0\n",
       "3SsnPorch           0\n",
       "EnclosedPorch       0\n",
       "OpenPorchSF         0\n",
       "WoodDeckSF          0\n",
       "PavedDrive          0\n",
       "Id                  0\n",
       "HeatingQC           0\n",
       "FullBath            0\n",
       "GrLivArea           0\n",
       "LotArea             0\n",
       "Street              0\n",
       "LotShape            0\n",
       "LandContour         0\n",
       "LotConfig           0\n",
       "LandSlope           0\n",
       "Neighborhood        0\n",
       "Condition1          0\n",
       "Condition2          0\n",
       "BldgType            0\n",
       "HouseStyle          0\n",
       "OverallQual         0\n",
       "OverallCond         0\n",
       "YearBuilt           0\n",
       "YearRemodAdd        0\n",
       "RoofStyle           0\n",
       "RoofMatl            0\n",
       "ExterQual           0\n",
       "ExterCond           0\n",
       "Foundation          0\n",
       "Heating             0\n",
       "MSSubClass          0\n",
       "CentralAir          0\n",
       "Electrical          0\n",
       "1stFlrSF            0\n",
       "2ndFlrSF            0\n",
       "LowQualFinSF        0\n",
       "SaleCondition       0\n",
       "dtype: int64"
      ]
     },
     "execution_count": 161,
     "metadata": {},
     "output_type": "execute_result"
    }
   ],
   "source": [
    "pd.set_option('display.max_rows', 90)\n",
    "housetest.isnull().sum().sort_values(ascending=False)"
   ]
  },
  {
   "cell_type": "code",
   "execution_count": 162,
   "id": "159bad92",
   "metadata": {},
   "outputs": [],
   "source": [
    "# combine the data frames for preprocessing\n",
    "housetest['SalePrice']='test'"
   ]
  },
  {
   "cell_type": "code",
   "execution_count": 163,
   "id": "a249d993",
   "metadata": {},
   "outputs": [],
   "source": [
    "combinedf=pd.concat([housetrain,housetest],axis=0)  #Row wise concatenation"
   ]
  },
  {
   "cell_type": "code",
   "execution_count": 164,
   "id": "010b0f30",
   "metadata": {},
   "outputs": [
    {
     "data": {
      "text/plain": [
       "(2919, 81)"
      ]
     },
     "execution_count": 164,
     "metadata": {},
     "output_type": "execute_result"
    }
   ],
   "source": [
    "combinedf.shape"
   ]
  },
  {
   "cell_type": "code",
   "execution_count": 165,
   "id": "0702a570",
   "metadata": {},
   "outputs": [],
   "source": [
    "# Split data based on datatype\n",
    "numericcols=combinedf.select_dtypes(include=np.number)\n",
    "objectcols=combinedf.select_dtypes(include=['object'])"
   ]
  },
  {
   "cell_type": "code",
   "execution_count": 166,
   "id": "db167991",
   "metadata": {},
   "outputs": [
    {
     "name": "stdout",
     "output_type": "stream",
     "text": [
      "(2919, 37)\n",
      "(2919, 44)\n"
     ]
    }
   ],
   "source": [
    "print(numericcols.shape)\n",
    "print(objectcols.shape)"
   ]
  },
  {
   "cell_type": "code",
   "execution_count": 167,
   "id": "af8d1f8b",
   "metadata": {},
   "outputs": [
    {
     "data": {
      "text/plain": [
       "Index(['Id', 'MSSubClass', 'LotFrontage', 'LotArea', 'OverallQual', 'OverallCond', 'YearBuilt',\n",
       "       'YearRemodAdd', 'MasVnrArea', 'BsmtFinSF1', 'BsmtFinSF2', 'BsmtUnfSF', 'TotalBsmtSF',\n",
       "       '1stFlrSF', '2ndFlrSF', 'LowQualFinSF', 'GrLivArea', 'BsmtFullBath', 'BsmtHalfBath',\n",
       "       'FullBath', 'HalfBath', 'BedroomAbvGr', 'KitchenAbvGr', 'TotRmsAbvGrd', 'Fireplaces',\n",
       "       'GarageYrBlt', 'GarageCars', 'GarageArea', 'WoodDeckSF', 'OpenPorchSF', 'EnclosedPorch',\n",
       "       '3SsnPorch', 'ScreenPorch', 'PoolArea', 'MiscVal', 'MoSold', 'YrSold'],\n",
       "      dtype='object')"
      ]
     },
     "execution_count": 167,
     "metadata": {},
     "output_type": "execute_result"
    }
   ],
   "source": [
    "numericcols.columns"
   ]
  },
  {
   "cell_type": "code",
   "execution_count": 168,
   "id": "fe291877",
   "metadata": {},
   "outputs": [],
   "source": [
    "categorycols=numericcols[['MSSubClass','OverallQual', 'OverallCond','YearBuilt','YearRemodAdd','GarageYrBlt',\n",
    "                          'MoSold', 'YrSold']]"
   ]
  },
  {
   "cell_type": "code",
   "execution_count": 169,
   "id": "8fbf3789",
   "metadata": {},
   "outputs": [],
   "source": [
    "numericcols=numericcols.drop(['MSSubClass','OverallQual', 'OverallCond','YearBuilt','YearRemodAdd','GarageYrBlt',\n",
    "                          'MoSold', 'YrSold'],axis=1)"
   ]
  },
  {
   "cell_type": "code",
   "execution_count": 170,
   "id": "825ccb9b",
   "metadata": {},
   "outputs": [
    {
     "name": "stdout",
     "output_type": "stream",
     "text": [
      "(2919, 29)\n",
      "(2919, 44)\n",
      "(2919, 8)\n"
     ]
    }
   ],
   "source": [
    "print(numericcols.shape)\n",
    "print(objectcols.shape)\n",
    "print(categorycols.shape)"
   ]
  },
  {
   "cell_type": "code",
   "execution_count": 171,
   "id": "480cc43b",
   "metadata": {},
   "outputs": [
    {
     "data": {
      "text/plain": [
       "PoolQC           2909\n",
       "MiscFeature      2814\n",
       "Alley            2721\n",
       "Fence            2348\n",
       "FireplaceQu      1420\n",
       "GarageCond        159\n",
       "GarageQual        159\n",
       "GarageFinish      159\n",
       "GarageType        157\n",
       "BsmtCond           82\n",
       "BsmtExposure       82\n",
       "BsmtQual           81\n",
       "BsmtFinType2       80\n",
       "BsmtFinType1       79\n",
       "MasVnrType         24\n",
       "MSZoning            4\n",
       "Utilities           2\n",
       "Functional          2\n",
       "Exterior2nd         1\n",
       "Electrical          1\n",
       "SaleType            1\n",
       "Exterior1st         1\n",
       "KitchenQual         1\n",
       "RoofStyle           0\n",
       "Neighborhood        0\n",
       "SaleCondition       0\n",
       "ExterQual           0\n",
       "LotShape            0\n",
       "LandContour         0\n",
       "ExterCond           0\n",
       "PavedDrive          0\n",
       "LotConfig           0\n",
       "LandSlope           0\n",
       "Condition1          0\n",
       "HouseStyle          0\n",
       "Condition2          0\n",
       "Foundation          0\n",
       "RoofMatl            0\n",
       "Street              0\n",
       "CentralAir          0\n",
       "HeatingQC           0\n",
       "Heating             0\n",
       "BldgType            0\n",
       "SalePrice           0\n",
       "dtype: int64"
      ]
     },
     "execution_count": 171,
     "metadata": {},
     "output_type": "execute_result"
    }
   ],
   "source": [
    "objectcols.isnull().sum().sort_values(ascending=False)"
   ]
  },
  {
   "cell_type": "code",
   "execution_count": 172,
   "id": "97032c81",
   "metadata": {},
   "outputs": [],
   "source": [
    "# Not every house will have these features hence assumed as NotAvailable and impute with word 'NotAvailable'\n",
    "NotAvail=['PoolQC','MiscFeature','Alley','Fence','FireplaceQu']\n",
    "for col in NotAvail:\n",
    "    objectcols[col]=objectcols[col].fillna('NotAvailable')"
   ]
  },
  {
   "cell_type": "code",
   "execution_count": 173,
   "id": "4d3e805f",
   "metadata": {},
   "outputs": [
    {
     "name": "stdout",
     "output_type": "stream",
     "text": [
      "TA     2654\n",
      "NaN     159\n",
      "Fa       74\n",
      "Gd       15\n",
      "Po       14\n",
      "Ex        3\n",
      "Name: GarageCond, dtype: int64\n",
      "TA     2604\n",
      "NaN     159\n",
      "Fa      124\n",
      "Gd       24\n",
      "Po        5\n",
      "Ex        3\n",
      "Name: GarageQual, dtype: int64\n",
      "Unf    1230\n",
      "RFn     811\n",
      "Fin     719\n",
      "NaN     159\n",
      "Name: GarageFinish, dtype: int64\n",
      "Attchd     1723\n",
      "Detchd      779\n",
      "BuiltIn     186\n",
      "NaN         157\n",
      "Basment      36\n",
      "2Types       23\n",
      "CarPort      15\n",
      "Name: GarageType, dtype: int64\n"
     ]
    }
   ],
   "source": [
    "# Garage columns\n",
    "garagecols=['GarageCond','GarageQual','GarageFinish','GarageType']\n",
    "for col in garagecols:\n",
    "    freq=objectcols[col].value_counts(dropna=False)\n",
    "    print(freq)"
   ]
  },
  {
   "cell_type": "code",
   "execution_count": 174,
   "id": "e1d39a3e",
   "metadata": {},
   "outputs": [
    {
     "data": {
      "text/plain": [
       "Index(['MSZoning', 'Street', 'Alley', 'LotShape', 'LandContour', 'Utilities', 'LotConfig',\n",
       "       'LandSlope', 'Neighborhood', 'Condition1', 'Condition2', 'BldgType', 'HouseStyle',\n",
       "       'RoofStyle', 'RoofMatl', 'Exterior1st', 'Exterior2nd', 'MasVnrType', 'ExterQual',\n",
       "       'ExterCond', 'Foundation', 'BsmtQual', 'BsmtCond', 'BsmtExposure', 'BsmtFinType1',\n",
       "       'BsmtFinType2', 'Heating', 'HeatingQC', 'CentralAir', 'Electrical', 'KitchenQual',\n",
       "       'Functional', 'FireplaceQu', 'GarageType', 'GarageFinish', 'GarageQual', 'GarageCond',\n",
       "       'PavedDrive', 'PoolQC', 'Fence', 'MiscFeature', 'SaleType', 'SaleCondition', 'SalePrice'],\n",
       "      dtype='object')"
      ]
     },
     "execution_count": 174,
     "metadata": {},
     "output_type": "execute_result"
    }
   ],
   "source": [
    "objectcols.columns"
   ]
  },
  {
   "cell_type": "code",
   "execution_count": 175,
   "id": "e057cc20",
   "metadata": {},
   "outputs": [
    {
     "name": "stdout",
     "output_type": "stream",
     "text": [
      "TA     1283\n",
      "Gd     1209\n",
      "Ex      258\n",
      "Fa       88\n",
      "NaN      81\n",
      "Name: BsmtQual, dtype: int64\n",
      "TA     2606\n",
      "Gd      122\n",
      "Fa      104\n",
      "NaN      82\n",
      "Po        5\n",
      "Name: BsmtCond, dtype: int64\n",
      "No     1904\n",
      "Av      418\n",
      "Gd      276\n",
      "Mn      239\n",
      "NaN      82\n",
      "Name: BsmtExposure, dtype: int64\n",
      "Unf    851\n",
      "GLQ    849\n",
      "ALQ    429\n",
      "Rec    288\n",
      "BLQ    269\n",
      "LwQ    154\n",
      "NaN     79\n",
      "Name: BsmtFinType1, dtype: int64\n",
      "Unf    2493\n",
      "Rec     105\n",
      "LwQ      87\n",
      "NaN      80\n",
      "BLQ      68\n",
      "ALQ      52\n",
      "GLQ      34\n",
      "Name: BsmtFinType2, dtype: int64\n"
     ]
    }
   ],
   "source": [
    "basementcols=['BsmtQual', 'BsmtCond', 'BsmtExposure', 'BsmtFinType1','BsmtFinType2']\n",
    "for col in basementcols:\n",
    "    freq=objectcols[col].value_counts(dropna=False)\n",
    "    print(freq)"
   ]
  },
  {
   "cell_type": "code",
   "execution_count": 176,
   "id": "14c10d8e",
   "metadata": {},
   "outputs": [],
   "source": [
    "from sklearn.impute import SimpleImputer"
   ]
  },
  {
   "cell_type": "code",
   "execution_count": 177,
   "id": "99722721",
   "metadata": {},
   "outputs": [],
   "source": [
    "impute=SimpleImputer(strategy='most_frequent')"
   ]
  },
  {
   "cell_type": "code",
   "execution_count": 178,
   "id": "57ecb79c",
   "metadata": {},
   "outputs": [],
   "source": [
    "objectcolsimp=impute.fit_transform(objectcols)"
   ]
  },
  {
   "cell_type": "code",
   "execution_count": 179,
   "id": "39536027",
   "metadata": {},
   "outputs": [],
   "source": [
    "objectcolsimp=pd.DataFrame(objectcolsimp,columns=objectcols.columns)"
   ]
  },
  {
   "cell_type": "code",
   "execution_count": 180,
   "id": "696727a3",
   "metadata": {},
   "outputs": [
    {
     "data": {
      "text/plain": [
       "MSZoning         0\n",
       "Street           0\n",
       "Alley            0\n",
       "LotShape         0\n",
       "LandContour      0\n",
       "Utilities        0\n",
       "LotConfig        0\n",
       "LandSlope        0\n",
       "Neighborhood     0\n",
       "Condition1       0\n",
       "Condition2       0\n",
       "BldgType         0\n",
       "HouseStyle       0\n",
       "RoofStyle        0\n",
       "RoofMatl         0\n",
       "Exterior1st      0\n",
       "Exterior2nd      0\n",
       "MasVnrType       0\n",
       "ExterQual        0\n",
       "ExterCond        0\n",
       "Foundation       0\n",
       "BsmtQual         0\n",
       "BsmtCond         0\n",
       "BsmtExposure     0\n",
       "BsmtFinType1     0\n",
       "BsmtFinType2     0\n",
       "Heating          0\n",
       "HeatingQC        0\n",
       "CentralAir       0\n",
       "Electrical       0\n",
       "KitchenQual      0\n",
       "Functional       0\n",
       "FireplaceQu      0\n",
       "GarageType       0\n",
       "GarageFinish     0\n",
       "GarageQual       0\n",
       "GarageCond       0\n",
       "PavedDrive       0\n",
       "PoolQC           0\n",
       "Fence            0\n",
       "MiscFeature      0\n",
       "SaleType         0\n",
       "SaleCondition    0\n",
       "SalePrice        0\n",
       "dtype: int64"
      ]
     },
     "execution_count": 180,
     "metadata": {},
     "output_type": "execute_result"
    }
   ],
   "source": [
    "objectcolsimp.isnull().sum()"
   ]
  },
  {
   "cell_type": "code",
   "execution_count": 181,
   "id": "af39adfe",
   "metadata": {},
   "outputs": [
    {
     "data": {
      "text/plain": [
       "GarageYrBlt     159\n",
       "MSSubClass        0\n",
       "OverallQual       0\n",
       "OverallCond       0\n",
       "YearBuilt         0\n",
       "YearRemodAdd      0\n",
       "MoSold            0\n",
       "YrSold            0\n",
       "dtype: int64"
      ]
     },
     "execution_count": 181,
     "metadata": {},
     "output_type": "execute_result"
    }
   ],
   "source": [
    "categorycols.isnull().sum().sort_values(ascending=False)"
   ]
  },
  {
   "cell_type": "code",
   "execution_count": 182,
   "id": "f5109c27",
   "metadata": {},
   "outputs": [],
   "source": [
    "categorycolsimp=impute.fit_transform(categorycols)"
   ]
  },
  {
   "cell_type": "code",
   "execution_count": 183,
   "id": "608367d3",
   "metadata": {},
   "outputs": [],
   "source": [
    "categorycolsimp=pd.DataFrame(categorycolsimp,columns=categorycols.columns)"
   ]
  },
  {
   "cell_type": "code",
   "execution_count": 184,
   "id": "d45fbbf6",
   "metadata": {},
   "outputs": [
    {
     "data": {
      "text/plain": [
       "MSSubClass      0\n",
       "OverallQual     0\n",
       "OverallCond     0\n",
       "YearBuilt       0\n",
       "YearRemodAdd    0\n",
       "GarageYrBlt     0\n",
       "MoSold          0\n",
       "YrSold          0\n",
       "dtype: int64"
      ]
     },
     "execution_count": 184,
     "metadata": {},
     "output_type": "execute_result"
    }
   ],
   "source": [
    "categorycolsimp.isnull().sum().sort_values(ascending=False)"
   ]
  },
  {
   "cell_type": "code",
   "execution_count": 185,
   "id": "5e6dc08e",
   "metadata": {},
   "outputs": [
    {
     "data": {
      "text/plain": [
       "LotFrontage      486\n",
       "MasVnrArea        23\n",
       "BsmtFullBath       2\n",
       "BsmtHalfBath       2\n",
       "GarageCars         1\n",
       "GarageArea         1\n",
       "BsmtFinSF1         1\n",
       "BsmtFinSF2         1\n",
       "BsmtUnfSF          1\n",
       "TotalBsmtSF        1\n",
       "WoodDeckSF         0\n",
       "Id                 0\n",
       "OpenPorchSF        0\n",
       "EnclosedPorch      0\n",
       "Fireplaces         0\n",
       "ScreenPorch        0\n",
       "PoolArea           0\n",
       "3SsnPorch          0\n",
       "FullBath           0\n",
       "TotRmsAbvGrd       0\n",
       "KitchenAbvGr       0\n",
       "BedroomAbvGr       0\n",
       "HalfBath           0\n",
       "GrLivArea          0\n",
       "LowQualFinSF       0\n",
       "2ndFlrSF           0\n",
       "1stFlrSF           0\n",
       "LotArea            0\n",
       "MiscVal            0\n",
       "dtype: int64"
      ]
     },
     "execution_count": 185,
     "metadata": {},
     "output_type": "execute_result"
    }
   ],
   "source": [
    "numericcols.isnull().sum().sort_values(ascending=False)"
   ]
  },
  {
   "cell_type": "code",
   "execution_count": 186,
   "id": "4a80ea92",
   "metadata": {},
   "outputs": [],
   "source": [
    "medianimpute=SimpleImputer(strategy='median')"
   ]
  },
  {
   "cell_type": "code",
   "execution_count": 187,
   "id": "916395fe",
   "metadata": {},
   "outputs": [],
   "source": [
    "numericcolsimp=medianimpute.fit_transform(numericcols)"
   ]
  },
  {
   "cell_type": "code",
   "execution_count": 188,
   "id": "a877d410",
   "metadata": {},
   "outputs": [],
   "source": [
    "numericcolsimp=pd.DataFrame(numericcolsimp,columns=numericcols.columns)"
   ]
  },
  {
   "cell_type": "code",
   "execution_count": 189,
   "id": "c24fc234",
   "metadata": {},
   "outputs": [
    {
     "data": {
      "text/plain": [
       "Id               0\n",
       "HalfBath         0\n",
       "PoolArea         0\n",
       "ScreenPorch      0\n",
       "3SsnPorch        0\n",
       "EnclosedPorch    0\n",
       "OpenPorchSF      0\n",
       "WoodDeckSF       0\n",
       "GarageArea       0\n",
       "GarageCars       0\n",
       "Fireplaces       0\n",
       "TotRmsAbvGrd     0\n",
       "KitchenAbvGr     0\n",
       "BedroomAbvGr     0\n",
       "FullBath         0\n",
       "LotFrontage      0\n",
       "BsmtHalfBath     0\n",
       "BsmtFullBath     0\n",
       "GrLivArea        0\n",
       "LowQualFinSF     0\n",
       "2ndFlrSF         0\n",
       "1stFlrSF         0\n",
       "TotalBsmtSF      0\n",
       "BsmtUnfSF        0\n",
       "BsmtFinSF2       0\n",
       "BsmtFinSF1       0\n",
       "MasVnrArea       0\n",
       "LotArea          0\n",
       "MiscVal          0\n",
       "dtype: int64"
      ]
     },
     "execution_count": 189,
     "metadata": {},
     "output_type": "execute_result"
    }
   ],
   "source": [
    "numericcolsimp.isnull().sum().sort_values(ascending=False)"
   ]
  },
  {
   "cell_type": "code",
   "execution_count": 190,
   "id": "e6b0c9fc",
   "metadata": {},
   "outputs": [],
   "source": [
    "from sklearn.preprocessing import LabelEncoder"
   ]
  },
  {
   "cell_type": "code",
   "execution_count": 191,
   "id": "5defc562",
   "metadata": {},
   "outputs": [],
   "source": [
    "le=LabelEncoder()"
   ]
  },
  {
   "cell_type": "code",
   "execution_count": 192,
   "id": "c2ee1824",
   "metadata": {},
   "outputs": [],
   "source": [
    "numericcolsimp['SalePrice']=objectcolsimp.SalePrice"
   ]
  },
  {
   "cell_type": "code",
   "execution_count": 193,
   "id": "876b2434",
   "metadata": {},
   "outputs": [],
   "source": [
    "objectcolsimp=objectcolsimp.drop('SalePrice',axis=1)"
   ]
  },
  {
   "cell_type": "code",
   "execution_count": 194,
   "id": "d8a584d5",
   "metadata": {},
   "outputs": [],
   "source": [
    "objectcolsdummy=objectcolsimp.apply(le.fit_transform)"
   ]
  },
  {
   "cell_type": "code",
   "execution_count": 195,
   "id": "9b5f4910",
   "metadata": {},
   "outputs": [],
   "source": [
    "categorycolsdummy=categorycolsimp.apply(le.fit_transform)"
   ]
  },
  {
   "cell_type": "code",
   "execution_count": 196,
   "id": "f750ee93",
   "metadata": {},
   "outputs": [],
   "source": [
    "combinedf_clean=pd.concat([numericcolsimp,objectcolsdummy,categorycolsdummy],axis=1)"
   ]
  },
  {
   "cell_type": "code",
   "execution_count": 197,
   "id": "07bf9808",
   "metadata": {},
   "outputs": [
    {
     "data": {
      "text/plain": [
       "(2919, 81)"
      ]
     },
     "execution_count": 197,
     "metadata": {},
     "output_type": "execute_result"
    }
   ],
   "source": [
    "combinedf_clean.shape"
   ]
  },
  {
   "cell_type": "code",
   "execution_count": 198,
   "id": "25ada50f",
   "metadata": {},
   "outputs": [],
   "source": [
    "housetraindf=combinedf_clean[combinedf_clean.SalePrice!='test']\n",
    "housetestdf=combinedf_clean[combinedf_clean.SalePrice=='test']"
   ]
  },
  {
   "cell_type": "code",
   "execution_count": 199,
   "id": "b3d980fd",
   "metadata": {},
   "outputs": [],
   "source": [
    "housetestdf=housetestdf.drop('SalePrice',axis=1)"
   ]
  },
  {
   "cell_type": "code",
   "execution_count": 200,
   "id": "08fb82a8",
   "metadata": {},
   "outputs": [],
   "source": [
    "y=housetraindf.SalePrice\n",
    "X=housetraindf.drop(['Id','SalePrice'],axis=1)"
   ]
  },
  {
   "cell_type": "code",
   "execution_count": 201,
   "id": "42b028a3",
   "metadata": {},
   "outputs": [
    {
     "data": {
      "text/plain": [
       "dtype('O')"
      ]
     },
     "execution_count": 201,
     "metadata": {},
     "output_type": "execute_result"
    }
   ],
   "source": [
    "y.dtype"
   ]
  },
  {
   "cell_type": "code",
   "execution_count": 202,
   "id": "9bcc1175",
   "metadata": {},
   "outputs": [],
   "source": [
    "y=y.astype(float)"
   ]
  },
  {
   "cell_type": "code",
   "execution_count": 203,
   "id": "4f9b64ac",
   "metadata": {},
   "outputs": [
    {
     "data": {
      "text/plain": [
       "dtype('float64')"
      ]
     },
     "execution_count": 203,
     "metadata": {},
     "output_type": "execute_result"
    }
   ],
   "source": [
    "y.dtype"
   ]
  },
  {
   "cell_type": "code",
   "execution_count": 204,
   "id": "2590bf75",
   "metadata": {},
   "outputs": [],
   "source": [
    "from sklearn.linear_model import LinearRegression"
   ]
  },
  {
   "cell_type": "code",
   "execution_count": 205,
   "id": "b4fc36ce",
   "metadata": {},
   "outputs": [],
   "source": [
    "reg=LinearRegression()"
   ]
  },
  {
   "cell_type": "code",
   "execution_count": 206,
   "id": "35faebcc",
   "metadata": {},
   "outputs": [],
   "source": [
    "regmodel=reg.fit(X,y)"
   ]
  },
  {
   "cell_type": "code",
   "execution_count": 207,
   "id": "4f740bc3",
   "metadata": {},
   "outputs": [
    {
     "data": {
      "text/plain": [
       "0.8543679251637534"
      ]
     },
     "execution_count": 207,
     "metadata": {},
     "output_type": "execute_result"
    }
   ],
   "source": [
    "regmodel.score(X,y)"
   ]
  },
  {
   "cell_type": "code",
   "execution_count": 208,
   "id": "4516e0e9",
   "metadata": {},
   "outputs": [],
   "source": [
    "housetestdf=housetestdf.drop('Id',axis=1)"
   ]
  },
  {
   "cell_type": "code",
   "execution_count": 209,
   "id": "776f77a6",
   "metadata": {},
   "outputs": [],
   "source": [
    "regpredict=regmodel.predict(housetestdf)"
   ]
  },
  {
   "cell_type": "code",
   "execution_count": 210,
   "id": "3934785d",
   "metadata": {},
   "outputs": [],
   "source": [
    "pd.DataFrame(regpredict).to_csv('reg.csv')"
   ]
  },
  {
   "cell_type": "code",
   "execution_count": 211,
   "id": "e5e00132",
   "metadata": {},
   "outputs": [],
   "source": [
    "from sklearn.tree import DecisionTreeRegressor"
   ]
  },
  {
   "cell_type": "code",
   "execution_count": 212,
   "id": "d3f22ade",
   "metadata": {},
   "outputs": [],
   "source": [
    "tree=DecisionTreeRegressor()"
   ]
  },
  {
   "cell_type": "code",
   "execution_count": 213,
   "id": "b74bdc99",
   "metadata": {},
   "outputs": [],
   "source": [
    "treemodel=tree.fit(X,y)"
   ]
  },
  {
   "cell_type": "code",
   "execution_count": 214,
   "id": "bec82bc0",
   "metadata": {},
   "outputs": [
    {
     "data": {
      "text/plain": [
       "1.0"
      ]
     },
     "execution_count": 214,
     "metadata": {},
     "output_type": "execute_result"
    }
   ],
   "source": [
    "treemodel.score(X,y)    "
   ]
  },
  {
   "cell_type": "code",
   "execution_count": 215,
   "id": "55b79c8a",
   "metadata": {},
   "outputs": [],
   "source": [
    "treepredict=treemodel.predict(housetestdf)"
   ]
  },
  {
   "cell_type": "code",
   "execution_count": 216,
   "id": "a07f4bd6",
   "metadata": {},
   "outputs": [],
   "source": [
    "pd.DataFrame(treepredict).to_csv('tree.csv')"
   ]
  },
  {
   "cell_type": "code",
   "execution_count": 217,
   "id": "4bc25934",
   "metadata": {},
   "outputs": [],
   "source": [
    "from sklearn.ensemble import RandomForestRegressor"
   ]
  },
  {
   "cell_type": "code",
   "execution_count": 218,
   "id": "c9d3c79a",
   "metadata": {},
   "outputs": [],
   "source": [
    "RF=RandomForestRegressor(n_estimators=3000)  "
   ]
  },
  {
   "cell_type": "code",
   "execution_count": 219,
   "id": "101ebabc",
   "metadata": {},
   "outputs": [],
   "source": [
    "RFmodel=RF.fit(X,y)"
   ]
  },
  {
   "cell_type": "code",
   "execution_count": 220,
   "id": "a8097701",
   "metadata": {},
   "outputs": [
    {
     "data": {
      "text/plain": [
       "0.98204057740651"
      ]
     },
     "execution_count": 220,
     "metadata": {},
     "output_type": "execute_result"
    }
   ],
   "source": [
    "RFmodel.score(X,y)"
   ]
  },
  {
   "cell_type": "code",
   "execution_count": 221,
   "id": "576a0355",
   "metadata": {},
   "outputs": [],
   "source": [
    "RFpredict=RFmodel.predict(housetestdf)"
   ]
  },
  {
   "cell_type": "code",
   "execution_count": 222,
   "id": "c32e5ccd",
   "metadata": {},
   "outputs": [],
   "source": [
    "pd.DataFrame(RFpredict).to_csv('RF.csv')"
   ]
  },
  {
   "cell_type": "code",
   "execution_count": 223,
   "id": "3c9e4192",
   "metadata": {},
   "outputs": [],
   "source": [
    "from sklearn.ensemble import GradientBoostingRegressor"
   ]
  },
  {
   "cell_type": "code",
   "execution_count": 224,
   "id": "68ff09a7",
   "metadata": {},
   "outputs": [],
   "source": [
    "gbm=GradientBoostingRegressor(n_estimators=3000)"
   ]
  },
  {
   "cell_type": "code",
   "execution_count": 225,
   "id": "7d9ffc37",
   "metadata": {},
   "outputs": [],
   "source": [
    "gbmmodel=gbm.fit(X,y)"
   ]
  },
  {
   "cell_type": "code",
   "execution_count": 226,
   "id": "640f1725",
   "metadata": {},
   "outputs": [
    {
     "data": {
      "text/plain": [
       "0.999961590228345"
      ]
     },
     "execution_count": 226,
     "metadata": {},
     "output_type": "execute_result"
    }
   ],
   "source": [
    "gbmmodel.score(X,y)"
   ]
  },
  {
   "cell_type": "code",
   "execution_count": 227,
   "id": "e829ca16",
   "metadata": {},
   "outputs": [],
   "source": [
    "gbmpredict=gbmmodel.predict(housetestdf)"
   ]
  },
  {
   "cell_type": "code",
   "execution_count": 228,
   "id": "4193cdd7",
   "metadata": {},
   "outputs": [],
   "source": [
    "pd.DataFrame(gbmpredict).to_csv('gbm.csv')"
   ]
  },
  {
   "cell_type": "code",
   "execution_count": 230,
   "id": "2e464f28",
   "metadata": {},
   "outputs": [
    {
     "name": "stderr",
     "output_type": "stream",
     "text": [
      "C:\\Users\\harsh\\OneDrive\\Documents\\New folder\\lib\\site-packages\\xgboost\\compat.py:36: FutureWarning: pandas.Int64Index is deprecated and will be removed from pandas in a future version. Use pandas.Index with the appropriate dtype instead.\n",
      "  from pandas import MultiIndex, Int64Index\n"
     ]
    }
   ],
   "source": [
    "import xgboost as xgb"
   ]
  },
  {
   "cell_type": "code",
   "execution_count": 243,
   "id": "2e907532",
   "metadata": {},
   "outputs": [],
   "source": [
    "xgb_class=xgb.XGBRegressor(n_estimators=1500)"
   ]
  },
  {
   "cell_type": "code",
   "execution_count": 244,
   "id": "112b3251",
   "metadata": {},
   "outputs": [
    {
     "name": "stderr",
     "output_type": "stream",
     "text": [
      "C:\\Users\\harsh\\OneDrive\\Documents\\New folder\\lib\\site-packages\\xgboost\\data.py:250: FutureWarning: pandas.Int64Index is deprecated and will be removed from pandas in a future version. Use pandas.Index with the appropriate dtype instead.\n",
      "  elif isinstance(data.columns, (pd.Int64Index, pd.RangeIndex)):\n"
     ]
    }
   ],
   "source": [
    "xgbmodel=xgb_class.fit(X,y)"
   ]
  },
  {
   "cell_type": "code",
   "execution_count": 245,
   "id": "1fa89c10",
   "metadata": {},
   "outputs": [
    {
     "data": {
      "text/plain": [
       "0.9999999999991873"
      ]
     },
     "execution_count": 245,
     "metadata": {},
     "output_type": "execute_result"
    }
   ],
   "source": [
    "xgbmodel.score(X,y)"
   ]
  },
  {
   "cell_type": "code",
   "execution_count": 241,
   "id": "db1f6a32",
   "metadata": {},
   "outputs": [],
   "source": [
    "xgbpredict=xgbmodel.predict(housetestdf)"
   ]
  },
  {
   "cell_type": "code",
   "execution_count": 242,
   "id": "59264e23",
   "metadata": {},
   "outputs": [],
   "source": [
    "pd.DataFrame(xgbpredict).to_csv('xgb.csv')"
   ]
  },
  {
   "cell_type": "code",
   "execution_count": null,
   "id": "48a50a3b",
   "metadata": {},
   "outputs": [],
   "source": []
  },
  {
   "cell_type": "code",
   "execution_count": null,
   "id": "e8e159e7",
   "metadata": {},
   "outputs": [],
   "source": []
  }
 ],
 "metadata": {
  "kernelspec": {
   "display_name": "Python 3 (ipykernel)",
   "language": "python",
   "name": "python3"
  },
  "language_info": {
   "codemirror_mode": {
    "name": "ipython",
    "version": 3
   },
   "file_extension": ".py",
   "mimetype": "text/x-python",
   "name": "python",
   "nbconvert_exporter": "python",
   "pygments_lexer": "ipython3",
   "version": "3.9.12"
  }
 },
 "nbformat": 4,
 "nbformat_minor": 5
}
